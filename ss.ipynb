{
 "cells": [
  {
   "cell_type": "code",
   "execution_count": null,
   "id": "669e392e",
   "metadata": {
    "vscode": {
     "languageId": "plaintext"
    }
   },
   "outputs": [],
   "source": [
    "from shapely.geometry import LineString\n",
    "import geopandas as gpd\n",
    "import pandas as pd\n",
    "import numpy as np\n",
    "\n",
    "# Read the data\n",
    "df_mine = pd.read_csv('./BM Vulcan/dgn_pit.str', \n",
    "                     names=['interior', 'x', 'y', 'z', 'none', 'type'])\n",
    "\n",
    "# Clean data more efficiently - convert types during read with dtype parameter\n",
    "df_mine = df_mine.drop(columns=['none']).dropna()\n",
    "df_mine[['x', 'y', 'z']] = df_mine[['x', 'y', 'z']].astype(float)\n",
    "\n",
    "# Pre-allocate lists for better performance\n",
    "closed_line = []\n",
    "levels = []\n",
    "\n",
    "# Group by z-level to avoid repeated filtering\n",
    "for level, group in df_mine.groupby('z'):\n",
    "    # Convert to numpy arrays for faster operations\n",
    "    coords = np.column_stack((group['y'].values, group['x'].values))\n",
    "    \n",
    "    # More efficient coordinate tracking\n",
    "    coord_list = []\n",
    "    for coord in coords:\n",
    "        coord_tuple = tuple(coord)\n",
    "        \n",
    "        # Check if we've seen this coordinate before\n",
    "        if coord_tuple in coord_list:\n",
    "            # We found a duplicate, so close the line\n",
    "            coord_list.append(coord_tuple)\n",
    "            if len(coord_list) > 1:  # Make sure we have enough points for a LineString\n",
    "                closed_line.append(LineString(coord_list))\n",
    "                levels.append(level)\n",
    "            \n",
    "            # Reset for next line\n",
    "            coord_list = []\n",
    "        else:\n",
    "            coord_list.append(coord_tuple)\n",
    "    \n",
    "    # Handle any remaining coordinates at the end\n",
    "    if len(coord_list) > 1:\n",
    "        closed_line.append(LineString(coord_list))\n",
    "        levels.append(level)\n",
    "\n",
    "# Create the GeoDataFrame all at once\n",
    "gdf_closed_line = gpd.GeoDataFrame(\n",
    "    data={'level': levels},\n",
    "    geometry=closed_line, \n",
    "    crs=\"EPSG:32652\"\n",
    ")\n",
    "\n",
    "# Display the result\n",
    "gdf_closed_line.explore()"
   ]
  }
 ],
 "metadata": {
  "language_info": {
   "name": "python"
  }
 },
 "nbformat": 4,
 "nbformat_minor": 5
}
